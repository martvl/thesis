{
  "nbformat": 4,
  "nbformat_minor": 0,
  "metadata": {
    "colab": {
      "name": "LSTM.ipynb",
      "version": "0.3.2",
      "provenance": [],
      "collapsed_sections": []
    },
    "kernelspec": {
      "name": "python3",
      "display_name": "Python 3"
    },
    "accelerator": "GPU"
  },
  "cells": [
    {
      "metadata": {
        "id": "gMruVd2brTW8",
        "colab_type": "text"
      },
      "cell_type": "markdown",
      "source": [
        "Import required packages:"
      ]
    },
    {
      "metadata": {
        "id": "HabhD3WHARFx",
        "colab_type": "code",
        "colab": {
          "base_uri": "https://localhost:8080/",
          "height": 34
        },
        "outputId": "8d500497-0872-499f-e988-016f86dba91b"
      },
      "cell_type": "code",
      "source": [
        "import pandas as pd\n",
        "import sys\n",
        "import os\n",
        "import numpy as np\n",
        "from keras.models import Sequential\n",
        "from keras.layers import LSTM, Dense, Dropout\n",
        "from keras.layers.embeddings import Embedding\n",
        "from keras.preprocessing import sequence\n",
        "from keras.preprocessing.text import Tokenizer\n",
        "import json\n",
        "from keras import backend as K\n",
        "from keras.utils import plot_model\n",
        "from sklearn.metrics import roc_curve, auc\n",
        "import matplotlib.pyplot as plt\n",
        "%matplotlib inline"
      ],
      "execution_count": 0,
      "outputs": [
        {
          "output_type": "stream",
          "text": [
            "Using TensorFlow backend.\n"
          ],
          "name": "stderr"
        }
      ]
    },
    {
      "metadata": {
        "id": "615Ro5_NrZmT",
        "colab_type": "text"
      },
      "cell_type": "markdown",
      "source": [
        "Load data and prepare labels:"
      ]
    },
    {
      "metadata": {
        "id": "hGhegJNSA1Uf",
        "colab_type": "code",
        "colab": {}
      },
      "cell_type": "code",
      "source": [
        "logs_labels = pd.read_csv(\"logs_labels.csv\")\n",
        "\n",
        "X = logs_labels.full_log\n",
        "Y = logs_labels.label\n",
        "\n",
        "Y = np.array([0 if i == 0 else 1 for i in Y])"
      ],
      "execution_count": 0,
      "outputs": []
    },
    {
      "metadata": {
        "id": "oSijlzeNrlcC",
        "colab_type": "text"
      },
      "cell_type": "markdown",
      "source": [
        "Set variables:"
      ]
    },
    {
      "metadata": {
        "id": "UZqs-j-OCCbc",
        "colab_type": "code",
        "colab": {}
      },
      "cell_type": "code",
      "source": [
        "batch_size = 64 \n",
        "epochs = 10 \n",
        "num_samples = 40000  \n",
        "seed = 2809\n",
        "max_log_length = 1024"
      ],
      "execution_count": 0,
      "outputs": []
    },
    {
      "metadata": {
        "id": "UJ0elMkbrtm-",
        "colab_type": "text"
      },
      "cell_type": "markdown",
      "source": [
        "Set random subset for training:"
      ]
    },
    {
      "metadata": {
        "id": "_LnOIK0wrzjd",
        "colab_type": "code",
        "colab": {}
      },
      "cell_type": "code",
      "source": [
        "np.random.seed(seed)\n",
        "sample_index = list(np.random.randint(0,len(X), size = (num_samples,)))\n",
        "train_size = int(.75*len(sample_index))"
      ],
      "execution_count": 0,
      "outputs": []
    },
    {
      "metadata": {
        "id": "MI81ntZHsD8M",
        "colab_type": "text"
      },
      "cell_type": "markdown",
      "source": [
        "Set up and fit characterizer using the Tokenizer class, and split data into train and test set:"
      ]
    },
    {
      "metadata": {
        "id": "rXr9_kKfH4CA",
        "colab_type": "code",
        "colab": {}
      },
      "cell_type": "code",
      "source": [
        "tokenizer = Tokenizer(filters='', char_level=True)\n",
        "tokenizer.fit_on_texts(X)\n",
        "            \n",
        "with open('word-dictionary.json', 'w') as outfile:\n",
        "    json.dump(tokenizer.word_index, outfile, ensure_ascii=False)\n",
        "    \n",
        "X = tokenizer.texts_to_sequences(X)\n",
        "\n",
        "X_processed = np.array(sequence.pad_sequences(X, maxlen=max_log_length))\n",
        "X_train, X_test = X_processed[sample_index[:train_size]], X_processed[sample_index[train_size:]]\n",
        "Y_train, Y_test = Y[sample_index[:train_size]], Y[sample_index[train_size:]]\n"
      ],
      "execution_count": 0,
      "outputs": []
    },
    {
      "metadata": {
        "id": "ut7VmErJsZxe",
        "colab_type": "text"
      },
      "cell_type": "markdown",
      "source": [
        "Define F1-function to keep track of F1-score during training:"
      ]
    },
    {
      "metadata": {
        "id": "UZ8wsvaEUQ0a",
        "colab_type": "code",
        "colab": {}
      },
      "cell_type": "code",
      "source": [
        "def f1(y_true, y_pred):\n",
        "    def recall(y_true, y_pred):\n",
        "        \n",
        "        true_positives = K.sum(K.round(K.clip(y_true * y_pred, 0, 1)))\n",
        "        possible_positives = K.sum(K.round(K.clip(y_true, 0, 1)))\n",
        "        recall = true_positives / (possible_positives + K.epsilon())\n",
        "        return recall\n",
        "\n",
        "    def precision(y_true, y_pred):\n",
        "        \n",
        "        true_positives = K.sum(K.round(K.clip(y_true * y_pred, 0, 1)))\n",
        "        predicted_positives = K.sum(K.round(K.clip(y_pred, 0, 1)))\n",
        "        precision = true_positives / (predicted_positives + K.epsilon())\n",
        "        return precision\n",
        "    precision = precision(y_true, y_pred)\n",
        "    recall = recall(y_true, y_pred)\n",
        "    return 2*((precision*recall)/(precision+recall+K.epsilon()))"
      ],
      "execution_count": 0,
      "outputs": []
    },
    {
      "metadata": {
        "id": "YTgxN_JvsflJ",
        "colab_type": "text"
      },
      "cell_type": "markdown",
      "source": [
        "Define model and print summary:"
      ]
    },
    {
      "metadata": {
        "id": "elK7h7siS-n6",
        "colab_type": "code",
        "colab": {
          "base_uri": "https://localhost:8080/",
          "height": 323
        },
        "outputId": "56d416f3-75dd-4896-f273-9193e9412a8d"
      },
      "cell_type": "code",
      "source": [
        "model = Sequential()\n",
        "model.add(Embedding(num_words, 32, input_length=max_log_length))\n",
        "model.add(Dropout(0.5))\n",
        "model.add(LSTM(64, recurrent_dropout=0.5))\n",
        "model.add(Dropout(0.5))\n",
        "model.add(Dense(1, activation='sigmoid'))\n",
        "model.compile(loss='binary_crossentropy', optimizer='adam', metrics=['accuracy', f1])\n",
        "\n",
        "print(model.summary())"
      ],
      "execution_count": 0,
      "outputs": [
        {
          "output_type": "stream",
          "text": [
            "_________________________________________________________________\n",
            "Layer (type)                 Output Shape              Param #   \n",
            "=================================================================\n",
            "embedding_1 (Embedding)      (None, 1024, 32)          3008      \n",
            "_________________________________________________________________\n",
            "dropout_1 (Dropout)          (None, 1024, 32)          0         \n",
            "_________________________________________________________________\n",
            "lstm_1 (LSTM)                (None, 64)                24832     \n",
            "_________________________________________________________________\n",
            "dropout_2 (Dropout)          (None, 64)                0         \n",
            "_________________________________________________________________\n",
            "dense_1 (Dense)              (None, 1)                 65        \n",
            "=================================================================\n",
            "Total params: 27,905\n",
            "Trainable params: 27,905\n",
            "Non-trainable params: 0\n",
            "_________________________________________________________________\n",
            "None\n"
          ],
          "name": "stdout"
        }
      ]
    },
    {
      "metadata": {
        "id": "nSU7yhCxsjRh",
        "colab_type": "text"
      },
      "cell_type": "markdown",
      "source": [
        "Export model plot:"
      ]
    },
    {
      "metadata": {
        "id": "vJUquJe_T0CR",
        "colab_type": "code",
        "colab": {}
      },
      "cell_type": "code",
      "source": [
        "plot_model(model, to_file='model_plot.png', show_shapes=True, show_layer_names=False)"
      ],
      "execution_count": 0,
      "outputs": []
    },
    {
      "metadata": {
        "id": "xbgK9f2pslpG",
        "colab_type": "text"
      },
      "cell_type": "markdown",
      "source": [
        "Fit model:"
      ]
    },
    {
      "metadata": {
        "id": "J8ejrKEpWXsi",
        "colab_type": "code",
        "colab": {
          "base_uri": "https://localhost:8080/",
          "height": 374
        },
        "outputId": "48abb254-cd57-47ab-957e-182ee23ce0cf"
      },
      "cell_type": "code",
      "source": [
        "history = model.fit(X_train, Y_train, validation_split=0.25, epochs=epochs, batch_size=batch_size)"
      ],
      "execution_count": 0,
      "outputs": [
        {
          "output_type": "stream",
          "text": [
            "Train on 22500 samples, validate on 7500 samples\n",
            "Epoch 1/10\n",
            "22500/22500 [==============================] - 1040s 46ms/step - loss: 0.1887 - acc: 0.9508 - f1: 0.6981 - val_loss: 0.0888 - val_acc: 0.9791 - val_f1: 0.9048\n",
            "Epoch 2/10\n",
            "22500/22500 [==============================] - 1035s 46ms/step - loss: 0.1015 - acc: 0.9754 - f1: 0.8840 - val_loss: 0.0805 - val_acc: 0.9796 - val_f1: 0.9087\n",
            "Epoch 3/10\n",
            "22500/22500 [==============================] - 1034s 46ms/step - loss: 0.0975 - acc: 0.9757 - f1: 0.8863 - val_loss: 0.0813 - val_acc: 0.9789 - val_f1: 0.9042\n",
            "Epoch 4/10\n",
            "22500/22500 [==============================] - 1034s 46ms/step - loss: 0.0934 - acc: 0.9766 - f1: 0.8944 - val_loss: 0.0823 - val_acc: 0.9796 - val_f1: 0.9085\n",
            "Epoch 5/10\n",
            "22500/22500 [==============================] - 1034s 46ms/step - loss: 0.0920 - acc: 0.9770 - f1: 0.8920 - val_loss: 0.0772 - val_acc: 0.9799 - val_f1: 0.9103\n",
            "Epoch 6/10\n",
            "22500/22500 [==============================] - 1035s 46ms/step - loss: 0.0905 - acc: 0.9767 - f1: 0.8941 - val_loss: 0.0768 - val_acc: 0.9799 - val_f1: 0.9103\n",
            "Epoch 7/10\n",
            "22500/22500 [==============================] - 1030s 46ms/step - loss: 0.0893 - acc: 0.9769 - f1: 0.8947 - val_loss: 0.0771 - val_acc: 0.9807 - val_f1: 0.9148\n",
            "Epoch 8/10\n",
            "22500/22500 [==============================] - 1029s 46ms/step - loss: 0.0875 - acc: 0.9772 - f1: 0.8942 - val_loss: 0.0752 - val_acc: 0.9808 - val_f1: 0.9156\n",
            "Epoch 9/10\n",
            "22500/22500 [==============================] - 1026s 46ms/step - loss: 0.0850 - acc: 0.9775 - f1: 0.8951 - val_loss: 0.0740 - val_acc: 0.9801 - val_f1: 0.9121\n",
            "Epoch 10/10\n",
            "22500/22500 [==============================] - 1025s 46ms/step - loss: 0.0834 - acc: 0.9775 - f1: 0.8997 - val_loss: 0.0711 - val_acc: 0.9808 - val_f1: 0.9142\n"
          ],
          "name": "stdout"
        }
      ]
    },
    {
      "metadata": {
        "id": "i3YKA4RZsnqD",
        "colab_type": "text"
      },
      "cell_type": "markdown",
      "source": [
        "Save model configuration:"
      ]
    },
    {
      "metadata": {
        "id": "CIqBGj0odYQC",
        "colab_type": "code",
        "colab": {}
      },
      "cell_type": "code",
      "source": [
        "model.save(\"model.h5\")"
      ],
      "execution_count": 0,
      "outputs": []
    },
    {
      "metadata": {
        "id": "QCuUQ1sEs2VZ",
        "colab_type": "text"
      },
      "cell_type": "markdown",
      "source": [
        "Predict probabilities and define false positive rates, true positive rates and thresholds for ROC plot:"
      ]
    },
    {
      "metadata": {
        "id": "-iNc47nDCmzk",
        "colab_type": "code",
        "colab": {}
      },
      "cell_type": "code",
      "source": [
        "probs = model.predict(X_test)\n",
        "fpr, tpr, thresholds = roc_curve(Y_test, probs, pos_label = 1)\n",
        "roc_auc = auc(fpr,tpr)"
      ],
      "execution_count": 0,
      "outputs": []
    },
    {
      "metadata": {
        "id": "rTZRHLjXtCtx",
        "colab_type": "text"
      },
      "cell_type": "markdown",
      "source": [
        "Print area under ROC curve:"
      ]
    },
    {
      "metadata": {
        "id": "qkrOBXl6BiEP",
        "colab_type": "code",
        "colab": {
          "base_uri": "https://localhost:8080/",
          "height": 34
        },
        "outputId": "cbb6cbca-3bee-4782-e6f0-aabb930d9fd0"
      },
      "cell_type": "code",
      "source": [
        "print(roc_auc)"
      ],
      "execution_count": 0,
      "outputs": [
        {
          "output_type": "execute_result",
          "data": {
            "text/plain": [
              "0.9824539465666349"
            ]
          },
          "metadata": {
            "tags": []
          },
          "execution_count": 19
        }
      ]
    },
    {
      "metadata": {
        "id": "kQPPGntUtGiB",
        "colab_type": "text"
      },
      "cell_type": "markdown",
      "source": [
        "Plot ROC curve:"
      ]
    },
    {
      "metadata": {
        "id": "oLsd6PhXyBbQ",
        "colab_type": "code",
        "colab": {
          "base_uri": "https://localhost:8080/",
          "height": 279
        },
        "outputId": "5a457283-6b18-41f6-8cfc-cb51a60eb3e9"
      },
      "cell_type": "code",
      "source": [
        "plt.figure()\n",
        "lw = 2\n",
        "plt.plot(fpr, tpr, color='darkgreen',\n",
        "         lw=lw, label='ROC curve (area = %0.2f)' % roc_auc)\n",
        "plt.plot([0, 1], [0, 1], color='navy', lw=lw, linestyle='--')\n",
        "plt.xlim([0.0, 1.0])\n",
        "plt.ylim([0.0, 1.05])\n",
        "plt.xlabel('False Positive Rate')\n",
        "plt.ylabel('True Positive Rate')\n",
        "plt.legend(loc=\"lower right\")\n",
        "plt.show()"
      ],
      "execution_count": 0,
      "outputs": [
        {
          "output_type": "display_data",
          "data": {
            "image/png": "[encoded data removed]",
            "text/plain": [
              "<matplotlib.figure.Figure at 0x7fc04cff5198>"
            ]
          },
          "metadata": {
            "tags": []
          }
        }
      ]
    },
    {
      "metadata": {
        "id": "xw33is7htKMv",
        "colab_type": "text"
      },
      "cell_type": "markdown",
      "source": [
        "Turn predicted probabilities into labels and evaluate on test set:"
      ]
    },
    {
      "metadata": {
        "id": "HV-2F-OogM2j",
        "colab_type": "code",
        "colab": {}
      },
      "cell_type": "code",
      "source": [
        "Y_pred = [int(round(i[0])) for i in probs] "
      ],
      "execution_count": 0,
      "outputs": []
    },
    {
      "metadata": {
        "id": "wmoP1QCIfIPR",
        "colab_type": "code",
        "colab": {
          "base_uri": "https://localhost:8080/",
          "height": 136
        },
        "outputId": "6a6ce92c-e31e-47b8-a19f-d2b0570e97b4"
      },
      "cell_type": "code",
      "source": [
        "from sklearn.metrics import classification_report\n",
        "print(classification_report(Y_test, Y_pred))"
      ],
      "execution_count": 0,
      "outputs": [
        {
          "output_type": "stream",
          "text": [
            "             precision    recall  f1-score   support\n",
            "\n",
            "          0       0.98      1.00      0.99      8717\n",
            "          1       0.96      0.84      0.90      1283\n",
            "\n",
            "avg / total       0.98      0.98      0.97     10000\n",
            "\n"
          ],
          "name": "stdout"
        }
      ]
    },
    {
      "metadata": {
        "id": "hhsGha14tP8f",
        "colab_type": "text"
      },
      "cell_type": "markdown",
      "source": [
        "Plot loss and F1-scores during training:"
      ]
    },
    {
      "metadata": {
        "id": "qKthNpykdXsS",
        "colab_type": "code",
        "colab": {
          "base_uri": "https://localhost:8080/",
          "height": 376
        },
        "outputId": "d1b50f96-bef7-490a-c6df-c6dc8a33642d"
      },
      "cell_type": "code",
      "source": [
        "plt.plot(history.history['loss'])\n",
        "plt.plot(history.history['val_loss'])\n",
        "plt.title('Model loss')\n",
        "plt.ylabel('Loss')\n",
        "plt.xlabel('Epoch')\n",
        "plt.legend(['Train', 'Validation'], loc='upper right')\n",
        "plt.show()"
      ],
      "execution_count": 0,
      "outputs": [
        {
          "output_type": "display_data",
          "data": {
            "image/png": "[encoded data removed]",
            "text/plain": [
              "<matplotlib.figure.Figure at 0x7fc7d4d45b70>"
            ]
          },
          "metadata": {
            "tags": []
          }
        }
      ]
    },
    {
      "metadata": {
        "id": "9RdqAl5K4d0C",
        "colab_type": "code",
        "colab": {
          "base_uri": "https://localhost:8080/",
          "height": 376
        },
        "outputId": "292217ca-8ea6-4255-9314-b5f4dce2dc77"
      },
      "cell_type": "code",
      "source": [
        "plt.plot(history.history['f1'])\n",
        "plt.plot(history.history['val_f1'])\n",
        "plt.title('Model F1-score')\n",
        "plt.ylabel('F1')\n",
        "plt.xlabel('Epoch')\n",
        "plt.legend(['Train', 'Validation'], loc='lower right')\n",
        "plt.show()"
      ],
      "execution_count": 0,
      "outputs": [
        {
          "output_type": "display_data",
          "data": {
            "image/png": "[encoded data removed]",
            "text/plain": [
              "<matplotlib.figure.Figure at 0x7fc7d4e515f8>"
            ]
          },
          "metadata": {
            "tags": []
          }
        }
      ]
    }
  ]
}