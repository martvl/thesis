{
  "nbformat": 4,
  "nbformat_minor": 0,
  "metadata": {
    "colab": {
      "name": "Gensim Embedding Classifier.ipynb",
      "version": "0.3.2",
      "provenance": [],
      "collapsed_sections": []
    },
    "kernelspec": {
      "name": "python3",
      "display_name": "Python 3"
    },
    "accelerator": "GPU"
  },
  "cells": [
    {
      "metadata": {
        "id": "HjTDoC5gbGBN",
        "colab_type": "text"
      },
      "cell_type": "markdown",
      "source": [
        "## Gensim Embedding Classifier"
      ]
    },
    {
      "metadata": {
        "id": "vziLTr9gbOhC",
        "colab_type": "text"
      },
      "cell_type": "markdown",
      "source": [
        "Load required packages:"
      ]
    },
    {
      "metadata": {
        "id": "gj8fO4tvRKXS",
        "colab_type": "code",
        "colab": {}
      },
      "cell_type": "code",
      "source": [
        "import pandas as pd\n",
        "import gensim\n",
        "import re\n",
        "from gensim.models.doc2vec import Doc2Vec, TaggedDocument\n",
        "from sklearn import svm\n",
        "from sklearn.tree import DecisionTreeClassifier\n",
        "from sklearn.neural_network import MLPClassifier\n",
        "from sklearn.metrics import classification_report\n",
        "from sklearn.metrics import roc_curve, auc\n",
        "import matplotlib.pyplot as plt\n",
        "%matplotlib inline"
      ],
      "execution_count": 0,
      "outputs": []
    },
    {
      "metadata": {
        "id": "tPIdqgwGa97s",
        "colab_type": "text"
      },
      "cell_type": "markdown",
      "source": [
        "Load data:"
      ]
    },
    {
      "metadata": {
        "id": "aAF_DCUSSEs4",
        "colab_type": "code",
        "colab": {}
      },
      "cell_type": "code",
      "source": [
        "logs_labels = pd.read_csv(\"logs_labels.csv\")\n",
        "\n",
        "test_split = int(.75*len(logs_labels.full_log))\n",
        "full_logs = logs_labels.full_log\n",
        "levels = logs_labels.label"
      ],
      "execution_count": 0,
      "outputs": []
    },
    {
      "metadata": {
        "id": "AE4ce9xNbXfu",
        "colab_type": "text"
      },
      "cell_type": "markdown",
      "source": [
        "Manual regular expressions-based tokenizer:"
      ]
    },
    {
      "metadata": {
        "id": "4Xk5IPASmELS",
        "colab_type": "code",
        "colab": {}
      },
      "cell_type": "code",
      "source": [
        "def extract_tokens(string):\n",
        "    tokens = []\n",
        "    line = str(string)\n",
        "    r = re.compile(r\"^\\[([\\w:/]+\\s[+\\-]\\d{4})\\] (\\S+)\\s?(\\S+)?\\s?(\\S+)? (\\d{3}|-) (\\d+|-) (\\S*) (.+)$\")\n",
        "    result = r.split(line)\n",
        "    for r in range(len(result)):\n",
        "        if r in [0,1,4,6,8,9]:\n",
        "            continue\n",
        "        if r in [2,5]:\n",
        "            tokens.append(result[r])\n",
        "        else:\n",
        "            if result[r] == \"-\":\n",
        "                tokens.append(result[r])\n",
        "            else:\n",
        "                for i in re.findall(r\"[a-zA-Z_']+\", result[r]):\n",
        "                    tokens.append(i)\n",
        "    return tokens"
      ],
      "execution_count": 0,
      "outputs": []
    },
    {
      "metadata": {
        "id": "ewajDaj0SNjG",
        "colab_type": "code",
        "colab": {}
      },
      "cell_type": "code",
      "source": [
        "logs = []\n",
        "for line in full_logs:\n",
        "    tokens = extract_tokens(line)\n",
        "    logs.append(tokens)"
      ],
      "execution_count": 0,
      "outputs": []
    },
    {
      "metadata": {
        "id": "yqR_ZyqsbqnL",
        "colab_type": "text"
      },
      "cell_type": "markdown",
      "source": [
        "Extract binary labels:"
      ]
    },
    {
      "metadata": {
        "id": "xdrKuUjVbnxl",
        "colab_type": "code",
        "colab": {}
      },
      "cell_type": "code",
      "source": [
        "labels = [0 if i == 0 else 1 for i in levels]"
      ],
      "execution_count": 0,
      "outputs": []
    },
    {
      "metadata": {
        "id": "qOqFyAH4byxk",
        "colab_type": "text"
      },
      "cell_type": "markdown",
      "source": [
        "Compute token statistics:"
      ]
    },
    {
      "metadata": {
        "id": "XBSCvKKgo-P5",
        "colab_type": "code",
        "colab": {
          "base_uri": "https://localhost:8080/",
          "height": 68
        },
        "outputId": "39f6c40c-11ee-4d8a-a05f-2029fbdfeb0b"
      },
      "cell_type": "code",
      "source": [
        "tokens = []\n",
        "\n",
        "for i in logs:\n",
        "    for j in i:\n",
        "        tokens.append(j)\n",
        "    \n",
        "unique_tokens = (len(set(tokens)))\n",
        "max_doc_len = max([len(i) for i in logs])\n",
        "min_doc_len = min([len(i) for i in logs])\n",
        "\n",
        "print(\"Unique tokens:\", unique_tokens)\n",
        "print(\"Longest document:\", max_doc_len, \"tokens\")\n",
        "print(\"Shortest document:\", min_doc_len, \"tokens\")"
      ],
      "execution_count": 0,
      "outputs": [
        {
          "output_type": "stream",
          "text": [
            "Unique tokens: 11364\n",
            "Longest document: 587 tokens\n",
            "Shortest document: 2 tokens\n"
          ],
          "name": "stdout"
        }
      ]
    },
    {
      "metadata": {
        "id": "SuxtpMOob7oa",
        "colab_type": "text"
      },
      "cell_type": "markdown",
      "source": [
        "Split data for testing purposes, train model and save configuration:"
      ]
    },
    {
      "metadata": {
        "id": "BTdaBgqF8ZgP",
        "colab_type": "code",
        "colab": {}
      },
      "cell_type": "code",
      "source": [
        "documents = [TaggedDocument(doc, [i]) for i, doc in enumerate(logs)]\n",
        "\n",
        "X_train = documents[:test_split]\n",
        "X_val = documents[test_split:]\n",
        "y_train = labels[:test_split]\n",
        "y_val = labels[test_split:]\n",
        "\n",
        "model = Doc2Vec(X_train, vector_size=100, window=5, min_count=1, epochs = 30)\n",
        "\n",
        "model.save(\"model.model\")"
      ],
      "execution_count": 0,
      "outputs": []
    },
    {
      "metadata": {
        "id": "AfVmh7hHlycm",
        "colab_type": "text"
      },
      "cell_type": "markdown",
      "source": [
        "Get trained vectors and infer vectors from unseen documents:"
      ]
    },
    {
      "metadata": {
        "id": "ySNs3TdWqLhH",
        "colab_type": "code",
        "colab": {}
      },
      "cell_type": "code",
      "source": [
        "train_vectors = []\n",
        "for i in range(len(model.docvecs)):\n",
        "    train_vectors.append(model.docvecs[i])\n",
        "    \n",
        "val_vectors = []\n",
        "for d in X_val:\n",
        "    val_vectors.append(model.infer_vector(d[0]))  "
      ],
      "execution_count": 0,
      "outputs": []
    },
    {
      "metadata": {
        "id": "s060AZj8l3Ia",
        "colab_type": "text"
      },
      "cell_type": "markdown",
      "source": [
        "Split data from zero and non-zero classes for One-Class SVM, transform labels to be 1 and -1, and fit classifier:"
      ]
    },
    {
      "metadata": {
        "id": "xMkzXxjAklPd",
        "colab_type": "code",
        "colab": {}
      },
      "cell_type": "code",
      "source": [
        "train_zero = []\n",
        "train_one = []\n",
        "\n",
        "for i, label in enumerate(y_train):\n",
        "    if label == 0:\n",
        "        train_zero.append(train_vectors[i])\n",
        "    if label == 1:\n",
        "        train_one.append(train_vectors[i])\n",
        "        \n",
        "one_class_test_label = [1 if i == 0 else -1 for i in y_val]        "
      ],
      "execution_count": 0,
      "outputs": []
    },
    {
      "metadata": {
        "id": "SBzCHJlkltTP",
        "colab_type": "code",
        "colab": {}
      },
      "cell_type": "code",
      "source": [
        "clf = svm.OneClassSVM(max_iter = 2000, verbose = 2)\n",
        "clf.fit(train_zero)"
      ],
      "execution_count": 0,
      "outputs": []
    },
    {
      "metadata": {
        "id": "ktnWXlr-mdyU",
        "colab_type": "text"
      },
      "cell_type": "markdown",
      "source": [
        "Make predictions and evaluate:"
      ]
    },
    {
      "metadata": {
        "id": "lCwjNKuwmTaS",
        "colab_type": "code",
        "colab": {
          "base_uri": "https://localhost:8080/",
          "height": 136
        },
        "outputId": "bb82c5cf-095e-4860-d5b1-5b2d301db24c"
      },
      "cell_type": "code",
      "source": [
        "y_pred = clf.predict(val_vectors)\n",
        "classification_report(one_class_test_label, y_pred))"
      ],
      "execution_count": 0,
      "outputs": [
        {
          "output_type": "stream",
          "text": [
            "             precision    recall  f1-score   support\n",
            "\n",
            "         -1       0.24      0.98      0.38      9281\n",
            "          1       0.99      0.38      0.55     47679\n",
            "\n",
            "avg / total       0.87      0.48      0.52     56960\n",
            "\n"
          ],
          "name": "stdout"
        }
      ]
    },
    {
      "metadata": {
        "id": "W3J_pUrZqCDs",
        "colab_type": "text"
      },
      "cell_type": "markdown",
      "source": [
        "Train decision tree and evaluate:"
      ]
    },
    {
      "metadata": {
        "id": "f5yt9Qbhp-S0",
        "colab_type": "code",
        "colab": {
          "base_uri": "https://localhost:8080/",
          "height": 119
        },
        "outputId": "11e768aa-6673-4245-9c8b-6aca30c12169"
      },
      "cell_type": "code",
      "source": [
        "dtc = DecisionTreeClassifier(max_depth = 15)\n",
        "dtc.fit(train_vectors, y_train)\n",
        "\n",
        "y_pred = dtc.predict(val_vectors)\n",
        "print(classification_report(y_val, y_pred))"
      ],
      "execution_count": 0,
      "outputs": [
        {
          "output_type": "stream",
          "text": [
            "             precision    recall  f1-score   support\n",
            "\n",
            "          0       0.83      0.93      0.88     47679\n",
            "          1       0.12      0.05      0.07      9281\n",
            "\n",
            "avg / total       0.72      0.78      0.75     56960\n"
          ],
          "name": "stdout"
        }
      ]
    },
    {
      "metadata": {
        "id": "QK4sDjnmqY8a",
        "colab_type": "text"
      },
      "cell_type": "markdown",
      "source": [
        "Loop through some MLP configurations and evaluate:"
      ]
    },
    {
      "metadata": {
        "id": "5Vd-ea6cqRSY",
        "colab_type": "code",
        "colab": {
          "base_uri": "https://localhost:8080/",
          "height": 697
        },
        "outputId": "5102e032-1f0e-49c3-e957-6685ff602209"
      },
      "cell_type": "code",
      "source": [
        "for i in [(50), (100,), (50,50), (100,100), (200,200)]:\n",
        "    mlp = MLPClassifier(hidden_layer_sizes = i, solver = \"adam\", max_iter = 300, verbose = 0)\n",
        "\n",
        "    mlp.fit(train_vectors, y_train)\n",
        "\n",
        "    y_pred = mlp.predict(val_vectors)\n",
        "    print(\"Scores with hidden layers\", str(i))\n",
        "    print(classification_report(y_val, y_pred))"
      ],
      "execution_count": 0,
      "outputs": [
        {
          "output_type": "stream",
          "text": [
            "Scores with hidden layers 50\n",
            "             precision    recall  f1-score   support\n",
            "\n",
            "          0       0.85      0.99      0.91     47679\n",
            "          1       0.64      0.07      0.13      9281\n",
            "\n",
            "avg / total       0.81      0.84      0.79     56960\n",
            "\n",
            "Scores with hidden layers (100,)\n",
            "             precision    recall  f1-score   support\n",
            "\n",
            "          0       0.85      0.99      0.91     47679\n",
            "          1       0.70      0.08      0.14      9281\n",
            "\n",
            "avg / total       0.82      0.84      0.79     56960\n",
            "\n",
            "Scores with hidden layers (50, 50)\n",
            "             precision    recall  f1-score   support\n",
            "\n",
            "          0       0.85      0.99      0.91     47679\n",
            "          1       0.51      0.08      0.13      9281\n",
            "\n",
            "avg / total       0.79      0.84      0.78     56960\n",
            "\n",
            "Scores with hidden layers (100, 100)\n",
            "             precision    recall  f1-score   support\n",
            "\n",
            "          0       0.85      0.99      0.91     47679\n",
            "          1       0.59      0.08      0.14      9281\n",
            "\n",
            "avg / total       0.80      0.84      0.79     56960\n",
            "\n",
            "Scores with hidden layers (200, 200)\n",
            "             precision    recall  f1-score   support\n",
            "\n",
            "          0       0.85      0.98      0.91     47679\n",
            "          1       0.51      0.09      0.15      9281\n",
            "\n",
            "avg / total       0.79      0.84      0.79     56960\n",
            "\n"
          ],
          "name": "stdout"
        }
      ]
    },
    {
      "metadata": {
        "id": "iUkjzht8pQqS",
        "colab_type": "code",
        "colab": {
          "base_uri": "https://localhost:8080/",
          "height": 697
        },
        "outputId": "5102e032-1f0e-49c3-e957-6685ff602209"
      },
      "cell_type": "code",
      "source": [
        "from sklearn.neural_network import MLPClassifier\n",
        "from sklearn.metrics import classification_report\n",
        "\n",
        "for i in [(50), (100,), (50,50), (100,100), (200,200)]:\n",
        "    mlp = MLPClassifier(hidden_layer_sizes = i, solver = \"adam\", max_iter = 300, verbose = 0)\n",
        "\n",
        "    mlp.fit(train_vectors, y_train)\n",
        "\n",
        "    y_pred = mlp.predict(val_vectors)\n",
        "    print(\"Scores with hidden layers\", str(i))\n",
        "    print(classification_report(y_val, y_pred))"
      ],
      "execution_count": 0,
      "outputs": [
        {
          "output_type": "stream",
          "text": [
            "Scores with hidden layers 50\n",
            "             precision    recall  f1-score   support\n",
            "\n",
            "          0       0.85      0.99      0.91     47679\n",
            "          1       0.64      0.07      0.13      9281\n",
            "\n",
            "avg / total       0.81      0.84      0.79     56960\n",
            "\n",
            "Scores with hidden layers (100,)\n",
            "             precision    recall  f1-score   support\n",
            "\n",
            "          0       0.85      0.99      0.91     47679\n",
            "          1       0.70      0.08      0.14      9281\n",
            "\n",
            "avg / total       0.82      0.84      0.79     56960\n",
            "\n",
            "Scores with hidden layers (50, 50)\n",
            "             precision    recall  f1-score   support\n",
            "\n",
            "          0       0.85      0.99      0.91     47679\n",
            "          1       0.51      0.08      0.13      9281\n",
            "\n",
            "avg / total       0.79      0.84      0.78     56960\n",
            "\n",
            "Scores with hidden layers (100, 100)\n",
            "             precision    recall  f1-score   support\n",
            "\n",
            "          0       0.85      0.99      0.91     47679\n",
            "          1       0.59      0.08      0.14      9281\n",
            "\n",
            "avg / total       0.80      0.84      0.79     56960\n",
            "\n",
            "Scores with hidden layers (200, 200)\n",
            "             precision    recall  f1-score   support\n",
            "\n",
            "          0       0.85      0.98      0.91     47679\n",
            "          1       0.51      0.09      0.15      9281\n",
            "\n",
            "avg / total       0.79      0.84      0.79     56960\n",
            "\n"
          ],
          "name": "stdout"
        }
      ]
    },
    {
      "metadata": {
        "id": "ALJA3W26q0pZ",
        "colab_type": "code",
        "colab": {
          "base_uri": "https://localhost:8080/",
          "height": 884
        },
        "outputId": "5616915a-e4b3-4342-b0af-b39fd0968aba"
      },
      "cell_type": "code",
      "source": [
        "mlp = MLPClassifier(hidden_layer_sizes = (1000,400), solver = \"adam\", max_iter = 300, verbose = 2)\n",
        "\n",
        "mlp.fit(train_vectors, y_train)\n",
        "\n",
        "y_pred = mlp.predict(val_vectors)\n",
        "print(\"Scores with hidden layers\", str(i))\n",
        "print(classification_report(y_val, y_pred))"
      ],
      "execution_count": 0,
      "outputs": [
        {
          "output_type": "stream",
          "text": [
            "Iteration 1, loss = 0.13971561\n",
            "Iteration 2, loss = 0.07826474\n",
            "Iteration 3, loss = 0.06539030\n",
            "Iteration 4, loss = 0.05549558\n",
            "Iteration 5, loss = 0.04900233\n",
            "Iteration 6, loss = 0.04407643\n",
            "Iteration 7, loss = 0.04028370\n",
            "Iteration 8, loss = 0.03647316\n",
            "Iteration 9, loss = 0.03414435\n",
            "Iteration 10, loss = 0.03024484\n",
            "Iteration 11, loss = 0.02922733\n",
            "Iteration 12, loss = 0.02742626\n",
            "Iteration 13, loss = 0.02513969\n",
            "Iteration 14, loss = 0.02369647\n",
            "Iteration 15, loss = 0.02224072\n",
            "Iteration 16, loss = 0.02120726\n",
            "Iteration 17, loss = 0.02037840\n",
            "Iteration 18, loss = 0.01916402\n",
            "Iteration 19, loss = 0.01905142\n",
            "Iteration 20, loss = 0.01771754\n",
            "Iteration 21, loss = 0.01743629\n",
            "Iteration 22, loss = 0.01622147\n",
            "Iteration 23, loss = 0.01578109\n",
            "Iteration 24, loss = 0.01552527\n",
            "Iteration 25, loss = 0.01366711\n",
            "Iteration 26, loss = 0.01443225\n",
            "Iteration 27, loss = 0.01349856\n",
            "Iteration 28, loss = 0.01362918\n",
            "Iteration 29, loss = 0.01206543\n",
            "Iteration 30, loss = 0.01594384\n",
            "Iteration 31, loss = 0.01197510\n",
            "Iteration 32, loss = 0.01123089\n",
            "Iteration 33, loss = 0.01132218\n",
            "Iteration 34, loss = 0.01127984\n",
            "Iteration 35, loss = 0.01091291\n",
            "Iteration 36, loss = 0.01110091\n",
            "Iteration 37, loss = 0.01196699\n",
            "Iteration 38, loss = 0.01073962\n",
            "Iteration 39, loss = 0.00907628\n",
            "Iteration 40, loss = 0.01030376\n",
            "Iteration 41, loss = 0.00997892\n",
            "Iteration 42, loss = 0.00983818\n",
            "Training loss did not improve more than tol=0.000100 for two consecutive epochs. Stopping.\n",
            "Scores with hidden layers (1000, 400)\n",
            "             precision    recall  f1-score   support\n",
            "\n",
            "          0       0.85      0.99      0.91     47679\n",
            "          1       0.61      0.08      0.15      9281\n",
            "\n",
            "avg / total       0.81      0.84      0.79     56960\n",
            "\n"
          ],
          "name": "stdout"
        }
      ]
    },
    {
      "metadata": {
        "id": "Qq3hMetprABd",
        "colab_type": "text"
      },
      "cell_type": "markdown",
      "source": [
        "Since the configuration with (200,200) neurons performs best, plot ROC curve for that configuration:"
      ]
    },
    {
      "metadata": {
        "id": "j0I9v5TErflz",
        "colab_type": "code",
        "colab": {
          "base_uri": "https://localhost:8080/",
          "height": 279
        },
        "outputId": "d9c70913-fce3-46a8-9bcc-2d40dd6dd98a"
      },
      "cell_type": "code",
      "source": [
        "mlp = MLPClassifier(hidden_layer_sizes = (200,200), solver = \"adam\", max_iter = 300, verbose = 2)\n",
        "mlp.fit(train_vectors, y_train)\n",
        "\n",
        "probs = mlp.predict_proba(val_vectors)\n",
        "preds = probs[:,1]\n",
        "\n",
        "fpr, tpr, thresholds = roc_curve(y_val, preds, pos_label = 1)\n",
        "roc_auc = auc(fpr,tpr)\n",
        "\n",
        "plt.figure()\n",
        "lw = 2\n",
        "plt.plot(fpr, tpr, color='darkgreen',\n",
        "         lw=lw, label='ROC curve (area = %0.2f)' % roc_auc)\n",
        "plt.plot([0, 1], [0, 1], color='navy', lw=lw, linestyle='--')\n",
        "plt.xlim([0.0, 1.0])\n",
        "plt.ylim([0.0, 1.05])\n",
        "plt.xlabel('False Positive Rate')\n",
        "plt.ylabel('True Positive Rate')\n",
        "plt.legend(loc=\"lower right\")\n",
        "plt.show()"
      ],
      "execution_count": 0,
      "outputs": [
        {
          "output_type": "display_data",
          "data": {
            "image/png": "[encoded data removed]",
            "text/plain": [
              "<matplotlib.figure.Figure at 0x7f0eb04aae48>"
            ]
          },
          "metadata": {
            "tags": []
          }
        }
      ]
    }
  ]
}